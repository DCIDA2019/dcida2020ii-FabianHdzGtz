{
 "cells": [
  {
   "cell_type": "code",
   "execution_count": 55,
   "metadata": {},
   "outputs": [],
   "source": [
    "#importamos sqlite3, que nos permite ejecutar comandos de lenguaje sql\n",
    "import sqlite3\n",
    "#usamos sqlite3.connect para crear o leer una bases de datos de formato SQL, tambien puede ser en memoria con ':memory:'\n",
    "connection = sqlite3.connect(\"capitales.db\")"
   ]
  },
  {
   "cell_type": "code",
   "execution_count": 57,
   "metadata": {},
   "outputs": [],
   "source": [
    "#utilizamos connection.cursor para poder usar comandos de sql \n",
    "cursor = connection.cursor()"
   ]
  },
  {
   "cell_type": "code",
   "execution_count": 61,
   "metadata": {},
   "outputs": [],
   "source": [
    "\n",
    "\n",
    "#creamos una tabla con CREATE TABLE y sus especificaciones con un objeto de nombre sql_command\n",
    "sql_command = \"\"\"\n",
    "CREATE TABLE europa ( \n",
    "indice INTEGER PRIMARY KEY, \n",
    "capital VARCHAR(30), \n",
    "pais VARCHAR(30), \n",
    "poblacion INTEGER);\"\"\"\n",
    "\n",
    "#ejecutamos el comando sql de sql_command con cursor.execute\n",
    "cursor.execute(sql_command)\n",
    "\n",
    "#agregamos información a la tabla con los comandos de SQL INSERT INTO y VALUES, después ejecutandolo con cursor.execute\n",
    "sql_command = \"\"\"INSERT INTO europa (indice, capital, pais, poblacion)\n",
    "    VALUES (NULL, \"Moscú\", \"Rusia\", 10190287);\"\"\"\n",
    "cursor.execute(sql_command)\n",
    "\n",
    "sql_command = \"\"\"INSERT INTO europa (indice, capital, pais, poblacion)\n",
    "    VALUES (NULL, \"Londres\", \"Reino Unido\", 8174100);\"\"\"\n",
    "cursor.execute(sql_command)\n",
    "\n",
    "sql_command = \"\"\"INSERT INTO europa (indice, capital, pais, poblacion)\n",
    "    VALUES (NULL, \"Ankara\", \"Turquía\", 4466756);\"\"\"\n",
    "cursor.execute(sql_command)\n",
    "\n",
    "# hacemos un commit para que se guarden los cambios, similar a GitHub\n",
    "connection.commit()\n",
    "\n"
   ]
  },
  {
   "cell_type": "code",
   "execution_count": 62,
   "metadata": {},
   "outputs": [
    {
     "data": {
      "text/plain": [
       "<sqlite3.Cursor at 0xb793120>"
      ]
     },
     "execution_count": 62,
     "metadata": {},
     "output_type": "execute_result"
    }
   ],
   "source": [
    "\n",
    "#creamos otra tabla de nombre america\n",
    "sql_command = \"\"\"\n",
    "CREATE TABLE america ( \n",
    "indice INTEGER PRIMARY KEY, \n",
    "capital VARCHAR(30), \n",
    "pais VARCHAR(30),\n",
    "poblacion INTEGER);\"\"\"\n",
    "cursor.execute(sql_command)"
   ]
  },
  {
   "cell_type": "code",
   "execution_count": 63,
   "metadata": {},
   "outputs": [],
   "source": [
    "#Haciendo una lista podemos usar un ciclo para agregar a la tabla información\n",
    "staff_data =[ ( \"Buenos Aires\", \"Argentina\", 3075646 ),\n",
    "               (\"CDMX\", \"México\", 8998653 ),\n",
    "               (\"Brasilia\", \"Brasil\", 3015268)]\n",
    "               \n",
    "for p in staff_data:\n",
    "    format_str = \"\"\"INSERT INTO america (indice, capital, pais, poblacion)\n",
    "    VALUES (NULL, \"{cap}\", \"{pai}\", \"{pob}\");\"\"\"\n",
    "\n",
    "    sql_command = format_str.format(cap=p[0], pai=p[1], pob=p[2])\n",
    "    cursor.execute(sql_command)"
   ]
  },
  {
   "cell_type": "code",
   "execution_count": 64,
   "metadata": {},
   "outputs": [
    {
     "name": "stdout",
     "output_type": "stream",
     "text": [
      "fetchall:\n",
      "(1, 'Buenos Aires', 'Argentina', 3075646)\n",
      "(2, 'CDMX', 'México', 8998653)\n",
      "(3, 'Brasilia', 'Brasil', 3015268)\n",
      "\n",
      "fetch one:\n",
      "(1, 'Buenos Aires', 'Argentina', 3075646)\n"
     ]
    }
   ],
   "source": [
    "#Con cursor.fetchall podemos leer la información de la tablas\n",
    "cursor.execute(\"SELECT * FROM america\") \n",
    "print(\"fetchall:\")\n",
    "result = cursor.fetchall() \n",
    "for r in result:\n",
    "    print(r)\n",
    "\n",
    "#Con cursor.fetchone leemos el primer valor de la tabla \n",
    "cursor.execute(\"SELECT * FROM america\") \n",
    "print(\"\\nfetch one:\")\n",
    "res = cursor.fetchone() \n",
    "print(res)\n"
   ]
  },
  {
   "cell_type": "code",
   "execution_count": 65,
   "metadata": {},
   "outputs": [
    {
     "name": "stdout",
     "output_type": "stream",
     "text": [
      "[(1, 'Buenos Aires', 'Argentina', 3075646), (2, 'CDMX', 'México', 8998653)]\n",
      "[(1, 'Moscú', 'Rusia', 10190287), (2, 'Londres', 'Reino Unido', 8174100), (3, 'Ankara', 'Turquía', 4466756)]\n"
     ]
    }
   ],
   "source": [
    "#De manera más compacta se puede escribir como:\n",
    "cursor.execute(\"select * from america limit 2;\") #limit nos indica cuantos elementos va a mostrar\n",
    "results = cursor.fetchall()\n",
    "print(results)\n",
    "\n",
    "cursor.execute(\"select * from europa;\") #sin límite nos muestra todos los valores de la tabla\n",
    "results = cursor.fetchall()\n",
    "print(results)\n",
    "\n"
   ]
  },
  {
   "cell_type": "code",
   "execution_count": 66,
   "metadata": {},
   "outputs": [
    {
     "name": "stdout",
     "output_type": "stream",
     "text": [
      "[(1, 'Moscú', 'Rusia', '10 190 287'), (2, 'Londres', 'Reino Unido', '8 174 100'), (3, 'Ankara (en Asia)', 'Turquía', '4.466.756'), (4, 'Berlín', 'Alemania', '3 479 740'), (5, 'Madrid', 'España', '3 273 049'), (6, 'Kiev', 'Ucrania', '2 815 951'), (7, 'Roma', 'Italia', '2 777 979'), (8, 'París', 'Francia', '2 234 105'), (9, 'Bakú (en Asia y Europa)', 'Azerbaiyán', '2 122 300'), (10, 'Bucarest', 'Rumania', '1 944 451'), (11, 'Minsk', 'Bielorrusia', '1 864 090'), (12, 'Budapest', 'Hungría', '1 721 556'), (13, 'Varsovia', 'Polonia', '1 720 398'), (14, 'Viena', 'Austria', '1 714 142'), (15, 'Tiflis (en Europa y Asia)', 'Georgia', '1 400 000'), (16, 'Praga', 'República Checa', '1 290 211'), (17, 'Sofía', 'Bulgaria', '1 270 284'), (18, 'Belgrado', 'Serbia', '1 213 000'), (19, 'Bruselas', 'Bélgica', '1 125 728'), (20, 'Ereván (en Europa y Asia)', 'Armenia', '1 088 300'), (21, 'Astaná (en Asia)', 'Kazajistán', '880 191'), (22, 'Estocolmo', 'Suecia', '847 073'), (23, 'Ámsterdam', 'Países Bajos', '779 808'), (24, 'Riga', 'Letonia', '700 107'), (25, 'Zagreb', 'Croacia', '686 568'), (26, 'Skopie', 'Macedonia del Norte', '668 518'), (27, 'Chisináu', 'Moldavia', '664 700'), (28, 'Atenas', 'Grecia', '655 780'), (29, 'Oslo', 'Noruega', '599 230'), (30, 'Helsinki', 'Finlandia', '588 549'), (31, 'Lisboa', 'Portugal', '547 733'), (32, 'Vilna', 'Lituania', '542 942'), (33, 'Copenhague', 'Dinamarca', '541 989'), (34, 'Tirana', 'Albania', '540 000'), (35, 'Dublín', 'Irlanda', '527 612'), (36, 'Bratislava', 'Eslovaquia', '446 816'), (37, 'Tallin', 'Estonia', '397 617'), (38, 'Sarajevo', 'Bosnia y Herzegovina', '393 000'), (39, 'Liubliana', 'Eslovenia', '270 828'), (40, 'Podgorica', 'Montenegro', '187 085'), (41, 'Berna', 'Suiza', '125 681'), (42, 'Reikiavik', 'Islandia', '125 165'), (43, 'Luxemburgo', 'Luxemburgo', '100 000'), (44, 'Nicosia (en Europa y Asia)', 'Chipre', '47 832'), (45, 'Andorra la Vieja', 'Andorra', '24 574'), (46, 'La Valeta', 'Malta', '7 650'), (47, 'Vaduz', 'Liechtenstein', '5 214'), (48, 'San Marino', 'San Marino', '4 169'), (49, 'Mónaco', 'Mónaco', '1 151'), (50, 'Ciudad del Vaticano', 'Ciudad del Vaticano', 800)]\n"
     ]
    }
   ],
   "source": [
    "#podríamos usar request para hacer una lista y alimentar el ciclo para hacer una tabla donde no tengamos que escribir la información\n",
    "import os\n",
    "import requests\n",
    "import pandas as pd\n",
    "url='https://es.wikipedia.org/wiki/Anexo:Capitales_de_Europa_por_población'#tabla en wikipedia de capitales y población de Europa\n",
    "html=requests.get(url).content\n",
    "df=pd.read_html(html)[0]\n",
    "lista2=df.drop('Nº', axis=1)\n",
    "lista=lista2.values.tolist()\n",
    "\n",
    "#creamos otra tabla para no perder la anterior\n",
    "sql_command = \"\"\"\n",
    "CREATE TABLE europa2 ( \n",
    "indice INTEGER PRIMARY KEY, \n",
    "capital VARCHAR(30), \n",
    "pais VARCHAR(30), \n",
    "poblacion INTEGER);\"\"\"\n",
    "cursor.execute(sql_command)\n",
    "\n",
    "\n",
    "staff_data =lista   \n",
    "for p in staff_data:\n",
    "    format_str = \"\"\"INSERT INTO europa2 (indice, capital, pais, poblacion)\n",
    "    VALUES (NULL, \"{cap}\", \"{pai}\", \"{pob}\");\"\"\"\n",
    "\n",
    "    sql_command = format_str.format(cap=p[0], pai=p[1], pob=p[2])\n",
    "    cursor.execute(sql_command)\n",
    "\n",
    "cursor.execute(\"select * from europa2;\") #sin límite nos muestra todos los valores de la tabla\n",
    "results = cursor.fetchall()\n",
    "print(results)\n",
    "\n"
   ]
  },
  {
   "cell_type": "code",
   "execution_count": 67,
   "metadata": {},
   "outputs": [
    {
     "name": "stdout",
     "output_type": "stream",
     "text": [
      "   indice  capital         pais  poblacion\n",
      "0       1    Moscú        Rusia   10190287\n",
      "1       2  Londres  Reino Unido    8174100\n",
      "2       3   Ankara      Turquía    4466756\n",
      "       indice     poblacion\n",
      "count     3.0  3.000000e+00\n",
      "mean      2.0  7.610381e+06\n",
      "std       1.0  2.903108e+06\n",
      "min       1.0  4.466756e+06\n",
      "25%       1.5  6.320428e+06\n",
      "50%       2.0  8.174100e+06\n",
      "75%       2.5  9.182194e+06\n",
      "max       3.0  1.019029e+07\n",
      "Turquía        1\n",
      "Reino Unido    1\n",
      "Rusia          1\n",
      "Name: pais, dtype: int64\n"
     ]
    }
   ],
   "source": [
    "#con pd.read_sql_query podemos usar la información de SQL con pandas\n",
    "df1 = pd.read_sql_query(\"select * from europa limit 4;\", connection)\n",
    "print(df1)\n",
    "\n",
    "#ejemplos\n",
    "print(df1.describe())\n",
    "print(df1['pais'].value_counts())"
   ]
  },
  {
   "cell_type": "code",
   "execution_count": 60,
   "metadata": {},
   "outputs": [
    {
     "data": {
      "text/plain": [
       "<sqlite3.Cursor at 0xb793120>"
      ]
     },
     "execution_count": 60,
     "metadata": {},
     "output_type": "execute_result"
    }
   ],
   "source": [
    "# Con el comando DROP TABLE eliminamos la tabla que querramos\n",
    "cursor.execute(\"\"\"DROP TABLE america;\"\"\")\n"
   ]
  },
  {
   "cell_type": "code",
   "execution_count": 68,
   "metadata": {},
   "outputs": [],
   "source": [
    "#hacemos un commit para guardar los cambios\n",
    "connection.commit()\n",
    "#cerramos la conección con SQL, ya no podemos acceder a su información\n",
    "connection.close()"
   ]
  },
  {
   "cell_type": "code",
   "execution_count": 69,
   "metadata": {},
   "outputs": [
    {
     "ename": "ProgrammingError",
     "evalue": "Cannot operate on a closed database.",
     "output_type": "error",
     "traceback": [
      "\u001b[1;31m---------------------------------------------------------------------------\u001b[0m",
      "\u001b[1;31mProgrammingError\u001b[0m                          Traceback (most recent call last)",
      "\u001b[1;32m<ipython-input-69-dbfdd4ee2c8f>\u001b[0m in \u001b[0;36m<module>\u001b[1;34m()\u001b[0m\n\u001b[0;32m      1\u001b[0m \u001b[1;31m#intentando leer el database vemos que nos muestra un error cuando está cerrado\u001b[0m\u001b[1;33m\u001b[0m\u001b[1;33m\u001b[0m\u001b[0m\n\u001b[1;32m----> 2\u001b[1;33m \u001b[0mcur\u001b[0m \u001b[1;33m=\u001b[0m \u001b[0mconnection\u001b[0m\u001b[1;33m.\u001b[0m\u001b[0mcursor\u001b[0m\u001b[1;33m(\u001b[0m\u001b[1;33m)\u001b[0m\u001b[1;33m\u001b[0m\u001b[0m\n\u001b[0m\u001b[0;32m      3\u001b[0m \u001b[0mcur\u001b[0m\u001b[1;33m.\u001b[0m\u001b[0mexecute\u001b[0m\u001b[1;33m(\u001b[0m\u001b[1;34m\"select * from employee limit 2;\"\u001b[0m\u001b[1;33m)\u001b[0m\u001b[1;33m\u001b[0m\u001b[0m\n\u001b[0;32m      4\u001b[0m \u001b[0mresults\u001b[0m \u001b[1;33m=\u001b[0m \u001b[0mcur\u001b[0m\u001b[1;33m.\u001b[0m\u001b[0mfetchall\u001b[0m\u001b[1;33m(\u001b[0m\u001b[1;33m)\u001b[0m\u001b[1;33m\u001b[0m\u001b[0m\n\u001b[0;32m      5\u001b[0m \u001b[0mprint\u001b[0m\u001b[1;33m(\u001b[0m\u001b[0mresults\u001b[0m\u001b[1;33m)\u001b[0m\u001b[1;33m\u001b[0m\u001b[0m\n",
      "\u001b[1;31mProgrammingError\u001b[0m: Cannot operate on a closed database."
     ]
    }
   ],
   "source": [
    "#intentando leer el database vemos que nos muestra un error cuando está cerrado\n",
    "cur = connection.cursor()\n",
    "cur.execute(\"select * from employee limit 2;\")\n",
    "results = cur.fetchall()\n",
    "print(results)"
   ]
  },
  {
   "cell_type": "code",
   "execution_count": null,
   "metadata": {},
   "outputs": [],
   "source": []
  }
 ],
 "metadata": {
  "kernelspec": {
   "display_name": "Python 3",
   "language": "python",
   "name": "python3"
  },
  "language_info": {
   "codemirror_mode": {
    "name": "ipython",
    "version": 3
   },
   "file_extension": ".py",
   "mimetype": "text/x-python",
   "name": "python",
   "nbconvert_exporter": "python",
   "pygments_lexer": "ipython3",
   "version": "3.6.3"
  }
 },
 "nbformat": 4,
 "nbformat_minor": 2
}
