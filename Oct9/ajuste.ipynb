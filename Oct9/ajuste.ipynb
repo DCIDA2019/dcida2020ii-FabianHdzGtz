{
 "cells": [
  {
   "cell_type": "code",
   "execution_count": 5,
   "metadata": {},
   "outputs": [],
   "source": [
    "import numpy\n",
    "import matplotlib.pyplot as plt\n",
    "datos=numpy.load('fit_exercise.npy')"
   ]
  },
  {
   "cell_type": "code",
   "execution_count": 21,
   "metadata": {},
   "outputs": [
    {
     "name": "stdout",
     "output_type": "stream",
     "text": [
      "[[ 0.59677897  0.9210494   1.15618395  1.75451756  1.8249173   2.26851454\n",
      "   2.28263231  2.50455365  2.86139335  2.93714046  3.12261223  3.17285482\n",
      "   3.22958914  3.43178016  3.61788656  3.92117518  3.98044255  4.14826212\n",
      "   4.2310646   4.2583029   4.26351307  4.30862763  4.33701173  4.38572245\n",
      "   4.80931901  4.83034264  4.93685098  5.01836676  5.19485119  5.31551374\n",
      "   5.31827587  5.51314769  6.11023511  6.12894526  6.23952952  6.30976124\n",
      "   6.34400959  6.84829739  6.96469186  7.1946897   7.22443383  7.24455325\n",
      "   7.29049707  7.37995406  8.49431794  8.66309158  8.93389163  9.44160018\n",
      "   9.80764198  9.85559786]\n",
      " [ 8.11257148  3.52815075  4.81023356  0.89238164  3.13295195  3.53338034\n",
      "   1.89933975  2.83896349  0.89713921  0.9500022   1.45700044  1.05318568\n",
      "   1.71011605  0.06780647  0.40019114  1.00444563 -0.02239716  0.35714018\n",
      "   0.36639252 -0.20377166  0.4535501  -0.05481938  0.11108328  0.05408497\n",
      "  -0.4312348   0.03066613  0.04872262 -0.60437665 -0.92605578 -1.43906426\n",
      "   0.05799768 -2.19399769 -2.19477287 -2.07585727 -1.99984962 -1.01857516\n",
      "  -0.14032142 -2.42545494 -1.27448771 -2.09526812 -2.14633492 -3.37270574\n",
      "  -4.11273068 -3.72061886 -4.85942793 -3.4872956  -2.6354799  -4.70700707\n",
      "  -6.73600298 -0.44957541]\n",
      " [ 0.16031433  0.5131704   0.40153006  0.372534    0.27138192  0.25206039\n",
      "   0.30851111  0.44065038  0.53772842  0.35521117  0.43465689  0.39296828\n",
      "   0.41245175  0.43734453  0.52117122  0.14159749  0.48184142  0.22183319\n",
      "   0.19711148  0.38622848  0.14785626  0.54266341  0.41362449  0.46170818\n",
      "   0.1080646   0.39721594  0.3783926   0.17947982  0.17653526  0.44776476\n",
      "   0.25938321  0.44598515  0.37719162  0.29447529  0.56256624  0.520835\n",
      "   0.27869878  0.12179573  0.25238404  0.29909284  0.45247942  0.59767924\n",
      "   0.27795743  0.48127391  0.39658846  0.4458509   0.17556373  0.29943815\n",
      "   0.22042795  0.27172801]]\n"
     ]
    },
    {
     "data": {
      "image/png": "[encoded data removed]",
      "text/plain": [
       "<matplotlib.figure.Figure at 0xbeade70>"
      ]
     },
     "metadata": {},
     "output_type": "display_data"
    }
   ],
   "source": [
    "print(datos)\n",
    "plt.plot(datos[0,:], datos[1,:], 'o', label='Original data', markersize=10)\n",
    "plt.show()\n",
    "A = numpy.vstack([datos[0,:], numpy.ones(len(datos[0,:]))]).T"
   ]
  },
  {
   "cell_type": "code",
   "execution_count": 14,
   "metadata": {},
   "outputs": [
    {
     "name": "stdout",
     "output_type": "stream",
     "text": [
      "-0.9821623517930431 4.577859303753363\n"
     ]
    },
    {
     "name": "stderr",
     "output_type": "stream",
     "text": [
      "c:\\python36-32\\lib\\site-packages\\ipykernel_launcher.py:1: FutureWarning: `rcond` parameter will change to the default of machine precision times ``max(M, N)`` where M and N are the input matrix dimensions.\n",
      "To use the future default and silence this warning we advise to pass `rcond=None`, to keep using the old, explicitly pass `rcond=-1`.\n",
      "  \"\"\"Entry point for launching an IPython kernel.\n"
     ]
    }
   ],
   "source": [
    "m, c = numpy.linalg.lstsq(A, datos[1,:])[0]\n",
    "print(m, c)"
   ]
  },
  {
   "cell_type": "code",
   "execution_count": 19,
   "metadata": {},
   "outputs": [
    {
     "data": {
      "image/png": "[encoded data removed]",
      "text/plain": [
       "<matplotlib.figure.Figure at 0xbddf110>"
      ]
     },
     "metadata": {},
     "output_type": "display_data"
    }
   ],
   "source": [
    "plt.plot(datos[0,:], datos[1,:], 'o', label='Original data', markersize=10)\n",
    "plt.plot(datos[0,:], m*datos[0,:] + c, 'r', label='Fitted line')\n",
    "plt.legend()\n",
    "plt.show()"
   ]
  },
  {
   "cell_type": "code",
   "execution_count": 22,
   "metadata": {},
   "outputs": [
    {
     "ename": "ModuleNotFoundError",
     "evalue": "No module named 'numpy.testing.decorators'",
     "output_type": "error",
     "traceback": [
      "\u001b[1;31m---------------------------------------------------------------------------\u001b[0m",
      "\u001b[1;31mModuleNotFoundError\u001b[0m                       Traceback (most recent call last)",
      "\u001b[1;32m<ipython-input-22-795bc2f66d43>\u001b[0m in \u001b[0;36m<module>\u001b[1;34m()\u001b[0m\n\u001b[1;32m----> 1\u001b[1;33m \u001b[1;32mfrom\u001b[0m \u001b[0mscipy\u001b[0m\u001b[1;33m.\u001b[0m\u001b[0mstats\u001b[0m \u001b[1;32mimport\u001b[0m \u001b[0mchisquare\u001b[0m\u001b[1;33m\u001b[0m\u001b[0m\n\u001b[0m",
      "\u001b[1;32mc:\\python36-32\\lib\\site-packages\\scipy\\stats\\__init__.py\u001b[0m in \u001b[0;36m<module>\u001b[1;34m()\u001b[0m\n\u001b[0;32m    343\u001b[0m \u001b[1;32mfrom\u001b[0m \u001b[1;33m.\u001b[0m\u001b[0mstats\u001b[0m \u001b[1;32mimport\u001b[0m \u001b[1;33m*\u001b[0m\u001b[1;33m\u001b[0m\u001b[0m\n\u001b[0;32m    344\u001b[0m \u001b[1;32mfrom\u001b[0m \u001b[1;33m.\u001b[0m\u001b[0mdistributions\u001b[0m \u001b[1;32mimport\u001b[0m \u001b[1;33m*\u001b[0m\u001b[1;33m\u001b[0m\u001b[0m\n\u001b[1;32m--> 345\u001b[1;33m \u001b[1;32mfrom\u001b[0m \u001b[1;33m.\u001b[0m\u001b[0mmorestats\u001b[0m \u001b[1;32mimport\u001b[0m \u001b[1;33m*\u001b[0m\u001b[1;33m\u001b[0m\u001b[0m\n\u001b[0m\u001b[0;32m    346\u001b[0m \u001b[1;32mfrom\u001b[0m \u001b[1;33m.\u001b[0m\u001b[0m_binned_statistic\u001b[0m \u001b[1;32mimport\u001b[0m \u001b[1;33m*\u001b[0m\u001b[1;33m\u001b[0m\u001b[0m\n\u001b[0;32m    347\u001b[0m \u001b[1;32mfrom\u001b[0m \u001b[1;33m.\u001b[0m\u001b[0mkde\u001b[0m \u001b[1;32mimport\u001b[0m \u001b[0mgaussian_kde\u001b[0m\u001b[1;33m\u001b[0m\u001b[0m\n",
      "\u001b[1;32mc:\\python36-32\\lib\\site-packages\\scipy\\stats\\morestats.py\u001b[0m in \u001b[0;36m<module>\u001b[1;34m()\u001b[0m\n\u001b[0;32m     10\u001b[0m                    \u001b[0msqrt\u001b[0m\u001b[1;33m,\u001b[0m \u001b[0mceil\u001b[0m\u001b[1;33m,\u001b[0m \u001b[0mfloor\u001b[0m\u001b[1;33m,\u001b[0m \u001b[0marray\u001b[0m\u001b[1;33m,\u001b[0m \u001b[0mcompress\u001b[0m\u001b[1;33m,\u001b[0m\u001b[1;33m\u001b[0m\u001b[0m\n\u001b[0;32m     11\u001b[0m                    pi, exp, ravel, count_nonzero, sin, cos, arctan2, hypot)\n\u001b[1;32m---> 12\u001b[1;33m \u001b[1;32mfrom\u001b[0m \u001b[0mnumpy\u001b[0m\u001b[1;33m.\u001b[0m\u001b[0mtesting\u001b[0m\u001b[1;33m.\u001b[0m\u001b[0mdecorators\u001b[0m \u001b[1;32mimport\u001b[0m \u001b[0msetastest\u001b[0m\u001b[1;33m\u001b[0m\u001b[0m\n\u001b[0m\u001b[0;32m     13\u001b[0m \u001b[1;33m\u001b[0m\u001b[0m\n\u001b[0;32m     14\u001b[0m \u001b[1;32mfrom\u001b[0m \u001b[0mscipy\u001b[0m\u001b[1;33m.\u001b[0m\u001b[0m_lib\u001b[0m\u001b[1;33m.\u001b[0m\u001b[0msix\u001b[0m \u001b[1;32mimport\u001b[0m \u001b[0mstring_types\u001b[0m\u001b[1;33m\u001b[0m\u001b[0m\n",
      "\u001b[1;31mModuleNotFoundError\u001b[0m: No module named 'numpy.testing.decorators'"
     ]
    }
   ],
   "source": [
    "from scipy.stats import chisquare"
   ]
  },
  {
   "cell_type": "code",
   "execution_count": null,
   "metadata": {},
   "outputs": [],
   "source": []
  }
 ],
 "metadata": {
  "kernelspec": {
   "display_name": "Python 3",
   "language": "python",
   "name": "python3"
  },
  "language_info": {
   "codemirror_mode": {
    "name": "ipython",
    "version": 3
   },
   "file_extension": ".py",
   "mimetype": "text/x-python",
   "name": "python",
   "nbconvert_exporter": "python",
   "pygments_lexer": "ipython3",
   "version": "3.6.3"
  }
 },
 "nbformat": 4,
 "nbformat_minor": 2
}
